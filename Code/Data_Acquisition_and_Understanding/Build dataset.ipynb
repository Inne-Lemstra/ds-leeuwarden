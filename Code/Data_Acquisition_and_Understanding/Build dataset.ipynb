{
 "cells": [
  {
   "cell_type": "code",
   "execution_count": 112,
   "metadata": {},
   "outputs": [],
   "source": [
    "from pandas import DataFrame, read_csv\n",
    "\n",
    "import matplotlib.pyplot as plt\n",
    "import pandas as pd\n",
    "import sys\n",
    "import matplotlib\n",
    "\n",
    "# Enable inline plotting\n",
    "%matplotlib inline"
   ]
  },
  {
   "cell_type": "code",
   "execution_count": 113,
   "metadata": {},
   "outputs": [
    {
     "name": "stdout",
     "output_type": "stream",
     "text": [
      "Python version 3.6.5 (v3.6.5:f59c0932b4, Mar 28 2018, 03:03:55) \n",
      "[GCC 4.2.1 (Apple Inc. build 5666) (dot 3)]\n",
      "Pandas version 0.23.0\n",
      "Matplotlib version 2.2.2\n"
     ]
    }
   ],
   "source": [
    "print('Python version ' + sys.version)\n",
    "print('Pandas version ' + pd.__version__)\n",
    "print('Matplotlib version ' + matplotlib.__version__)"
   ]
  },
  {
   "cell_type": "code",
   "execution_count": 114,
   "metadata": {},
   "outputs": [],
   "source": [
    "files_dir = '../../../leeuwarden_data/';\n",
    "sensors_file = files_dir + 'locatus/gps_locaties_sensors.csv'\n",
    "locatus_file = files_dir + 'locatus/locatusdata_bewerkt.csv';"
   ]
  },
  {
   "cell_type": "code",
   "execution_count": 115,
   "metadata": {},
   "outputs": [],
   "source": [
    "sens = read_csv(sensors_file, delimiter=';', decimal=',')"
   ]
  },
  {
   "cell_type": "code",
   "execution_count": 116,
   "metadata": {},
   "outputs": [
    {
     "data": {
      "text/html": [
       "<div>\n",
       "<style scoped>\n",
       "    .dataframe tbody tr th:only-of-type {\n",
       "        vertical-align: middle;\n",
       "    }\n",
       "\n",
       "    .dataframe tbody tr th {\n",
       "        vertical-align: top;\n",
       "    }\n",
       "\n",
       "    .dataframe thead th {\n",
       "        text-align: right;\n",
       "    }\n",
       "</style>\n",
       "<table border=\"1\" class=\"dataframe\">\n",
       "  <thead>\n",
       "    <tr style=\"text-align: right;\">\n",
       "      <th></th>\n",
       "      <th>sensor_id</th>\n",
       "      <th>latitude</th>\n",
       "      <th>longitude</th>\n",
       "    </tr>\n",
       "  </thead>\n",
       "  <tbody>\n",
       "    <tr>\n",
       "      <th>0</th>\n",
       "      <td>1074</td>\n",
       "      <td>5.794506</td>\n",
       "      <td>53.200509</td>\n",
       "    </tr>\n",
       "    <tr>\n",
       "      <th>1</th>\n",
       "      <td>1078</td>\n",
       "      <td>5.793081</td>\n",
       "      <td>53.200826</td>\n",
       "    </tr>\n",
       "    <tr>\n",
       "      <th>2</th>\n",
       "      <td>1079</td>\n",
       "      <td>5.797128</td>\n",
       "      <td>53.200347</td>\n",
       "    </tr>\n",
       "    <tr>\n",
       "      <th>3</th>\n",
       "      <td>1625</td>\n",
       "      <td>5.792219</td>\n",
       "      <td>53.199183</td>\n",
       "    </tr>\n",
       "    <tr>\n",
       "      <th>4</th>\n",
       "      <td>1627</td>\n",
       "      <td>5.793139</td>\n",
       "      <td>53.200104</td>\n",
       "    </tr>\n",
       "    <tr>\n",
       "      <th>5</th>\n",
       "      <td>1631</td>\n",
       "      <td>5.791639</td>\n",
       "      <td>53.202216</td>\n",
       "    </tr>\n",
       "    <tr>\n",
       "      <th>6</th>\n",
       "      <td>1636</td>\n",
       "      <td>5.796556</td>\n",
       "      <td>53.201777</td>\n",
       "    </tr>\n",
       "    <tr>\n",
       "      <th>7</th>\n",
       "      <td>2054</td>\n",
       "      <td>5.795879</td>\n",
       "      <td>53.199645</td>\n",
       "    </tr>\n",
       "    <tr>\n",
       "      <th>8</th>\n",
       "      <td>2779</td>\n",
       "      <td>5.799048</td>\n",
       "      <td>53.202032</td>\n",
       "    </tr>\n",
       "  </tbody>\n",
       "</table>\n",
       "</div>"
      ],
      "text/plain": [
       "   sensor_id  latitude  longitude\n",
       "0       1074  5.794506  53.200509\n",
       "1       1078  5.793081  53.200826\n",
       "2       1079  5.797128  53.200347\n",
       "3       1625  5.792219  53.199183\n",
       "4       1627  5.793139  53.200104\n",
       "5       1631  5.791639  53.202216\n",
       "6       1636  5.796556  53.201777\n",
       "7       2054  5.795879  53.199645\n",
       "8       2779  5.799048  53.202032"
      ]
     },
     "execution_count": 116,
     "metadata": {},
     "output_type": "execute_result"
    }
   ],
   "source": [
    "sensors = pd.DataFrame(sens, columns = ['sensor_id', 'latitude', 'longitude'])\n",
    "sensors"
   ]
  },
  {
   "cell_type": "code",
   "execution_count": 128,
   "metadata": {},
   "outputs": [
    {
     "name": "stdout",
     "output_type": "stream",
     "text": [
      "Data types:\n",
      "VirtualSensorCode     int64\n",
      "DateTimeLocal        object\n",
      "Duration             object\n",
      "code_address          int64\n",
      "dtype: object\n",
      "        VirtualSensorCode        DateTimeLocal Duration  code_address\n",
      "id                                                                   \n",
      "0                    2054  2017-08-04 15:29:58      NaN        119254\n",
      "1                    2054  2017-08-04 13:57:42      NaN         43074\n",
      "2                    2054  2016-09-20 17:47:05      0.0          4840\n",
      "3                    2054  2017-08-17 14:20:43      0.0        991988\n",
      "4                    2054  2017-08-17 17:43:27      0.0        992009\n",
      "5                    2054  2017-08-17 14:50:27      NaN        993071\n",
      "6                    2054  2017-08-17 13:27:00    646.0        994771\n",
      "7                    2054  2017-08-17 13:00:23      0.0       1072898\n",
      "8                    2054  2017-08-17 13:41:31      NaN       1088219\n",
      "9                    2054  2017-08-17 12:27:34      0.0       1089129\n",
      "10                   2054  2017-12-29 14:26:24      0.0       1573105\n",
      "11                   2054  2017-12-29 11:59:53      0.0       1682753\n",
      "12                   2054  2017-12-29 13:42:14      0.0       1688215\n",
      "13                   2054  2017-12-29 13:08:04      0.0         55633\n",
      "14                   2054  2017-12-29 10:28:26    432.0        167443\n",
      "15                   2054  2018-03-10 16:53:12    795.0       1531585\n",
      "16                   2054  2018-03-10 15:58:03      0.0       1648484\n",
      "17                   2054  2018-03-10 13:40:44      NaN         58405\n",
      "18                   2054  2018-03-10 16:22:04      0.0        235599\n",
      "19                   2054  2016-10-05 13:21:12   1931.0        139362\n",
      "20                   2054  2016-11-17 20:25:44      NaN         86300\n",
      "21                   2054  2016-11-17 15:02:13    405.0        135006\n",
      "22                   2054  2016-11-17 22:44:52      0.0        185597\n",
      "23                   2054  2016-08-26 10:41:49      NaN       1729602\n",
      "24                   2054  2016-08-26 16:52:15   2049.0        127786\n",
      "25                   2054  2016-08-26 16:38:38      NaN        141805\n",
      "26                   2054  2016-08-26 16:26:25      0.0        225621\n",
      "27                   2054  2016-08-26 15:38:57      NaN        254224\n",
      "28                   2054  2016-08-26 14:50:46      0.0         10516\n",
      "29                   2054  2017-01-13 16:03:44      NaN         19706\n",
      "...                   ...                  ...      ...           ...\n",
      "999970               1078  2016-11-09 13:04:03      NaN        949063\n",
      "999971               1078  2016-11-09 13:48:21      NaN        964199\n",
      "999972               1078  2016-11-09 10:59:29     93.0        964245\n",
      "999973               1078  2016-11-09 23:28:49      NaN        945924\n",
      "999974               1078  2016-11-09 12:42:48   5238.0       1076688\n",
      "999975               1078  2016-11-09 17:11:07   1642.0       1056320\n",
      "999976               1078  2016-11-09 17:30:16     19.0       1056583\n",
      "999977               1078  2016-11-09 16:27:43      NaN       1134318\n",
      "999978               1078  2016-11-09 09:09:52      0.0       1138309\n",
      "999979               1078  2016-11-09 17:06:32   1365.0       1139469\n",
      "999980               1078  2016-11-09 15:06:10      0.0       1188516\n",
      "999981               1078  2016-11-09 20:33:40      NaN       1197150\n",
      "999982               1078  2016-11-09 08:30:59      0.0       1238469\n",
      "999983               1078  2016-11-09 12:53:20      0.0       1216712\n",
      "999984               1078  2016-11-09 12:15:19      0.0       1248515\n",
      "999985               1078  2016-11-09 13:07:26      5.0       1268392\n",
      "999986               1078  2016-11-09 15:07:26      NaN       1312341\n",
      "999987               1078  2016-11-09 16:34:07      NaN       1345130\n",
      "999988               1078  2016-11-09 11:04:11      0.0       1345468\n",
      "999989               1078  2016-11-09 17:39:29      0.0       1352406\n",
      "999990               1078  2016-11-09 17:22:27      NaN       1396646\n",
      "999991               1078  2016-11-09 16:44:05      NaN       1415161\n",
      "999992               1078  2016-11-09 13:42:34   1949.0       1418690\n",
      "999993               1078  2016-11-09 16:18:33      0.0       1418929\n",
      "999994               1078  2016-11-09 15:30:34      NaN       1444719\n",
      "999995               1078  2016-11-09 21:48:27    145.0       1508774\n",
      "999996               1078  2016-11-09 12:29:24      0.0       1500921\n",
      "999997               1078  2016-11-09 17:33:29   1601.0       1501901\n",
      "999998               1078  2016-11-09 07:51:54     96.0       1530842\n",
      "999999               1078  2016-11-09 21:00:54      NaN       1536029\n",
      "\n",
      "[1000000 rows x 4 columns]\n"
     ]
    }
   ],
   "source": [
    "# Read rows in chunks\n",
    "locatus_chunks = 10 ** 6\n",
    "\n",
    "locatus_reader = pd.read_csv(locatus_file , chunksize = locatus_chunks\n",
    "                             , delimiter = ';', decimal = ',', header = 0, index_col = 0)\n",
    "\n",
    "for chunk in locatus_reader:\n",
    "    print(\"Data types:\")\n",
    "    print(chunk.dtypes)\n",
    "    \n",
    "    print(chunk)\n",
    "    break"
   ]
  },
  {
   "cell_type": "code",
   "execution_count": 157,
   "metadata": {},
   "outputs": [
    {
     "name": "stdout",
     "output_type": "stream",
     "text": [
      "code_address count\n",
      "1368474    3580\n",
      "159232     2508\n",
      "55808      1555\n",
      "1370351    1315\n",
      "1343663    1092\n",
      "1100244    1043\n",
      "1247191    1015\n",
      "1572224     963\n",
      "553544      950\n",
      "532184      925\n",
      "898968      919\n",
      "771431      897\n",
      "1000354     824\n",
      "24752       807\n",
      "354556      781\n",
      "1662992     758\n",
      "1538815     752\n",
      "1220277     724\n",
      "461635      711\n",
      "1353034     682\n",
      "235003      677\n",
      "335783      659\n",
      "1534192     653\n",
      "54918       636\n",
      "39802       635\n",
      "877858      632\n",
      "317223      567\n",
      "826278      564\n",
      "106727      505\n",
      "379779      505\n",
      "           ... \n",
      "1359629       1\n",
      "804626        1\n",
      "491125        1\n",
      "501358        1\n",
      "1572453       1\n",
      "1033826       1\n",
      "865226        1\n",
      "736765        1\n",
      "421411        1\n",
      "312834        1\n",
      "849412        1\n",
      "820746        1\n",
      "1332752       1\n",
      "1384678       1\n",
      "267800        1\n",
      "263706        1\n",
      "390692        1\n",
      "374316        1\n",
      "345650        1\n",
      "38364         1\n",
      "967504        1\n",
      "972352        1\n",
      "1498689       1\n",
      "968258        1\n",
      "980548        1\n",
      "63980         1\n",
      "419414        1\n",
      "1503522       1\n",
      "925273        1\n",
      "1572864       1\n",
      "Name: code_address, Length: 140806, dtype: int64\n",
      "<class 'pandas.core.series.Series'>\n"
     ]
    }
   ],
   "source": [
    "# Try to count occurrences for all devices over all series\n",
    "from collections import Counter\n",
    "\n",
    "series = []\n",
    "\n",
    "idx=0\n",
    "for chunk in locatus_reader:\n",
    "    print(idx)\n",
    "    idx = idx + 1\n",
    "    serie = chunk['code_address'].value_counts()\n",
    "    break\n",
    "    # What comes next?\n",
    "    # https://pandas.pydata.org/pandas-docs/stable/merging.html\n",
    "    # https://stackoverflow.com/questions/24251219/pandas-read-csv-low-memory-and-dtype-options\n",
    "    series = dict(Counter(series)+Counter(serie))\n",
    "\n",
    "# For next slide we hope to have series in order\n",
    "series = serie\n",
    "\n",
    "print('code_address', 'count')\n",
    "print (series)\n",
    "print(type(series))\n",
    "\n",
    "\n",
    "# ?pd.read_csv"
   ]
  },
  {
   "cell_type": "code",
   "execution_count": 158,
   "metadata": {},
   "outputs": [
    {
     "data": {
      "text/plain": [
       "<matplotlib.axes._subplots.AxesSubplot at 0x14b750400>"
      ]
     },
     "execution_count": 158,
     "metadata": {},
     "output_type": "execute_result"
    },
    {
     "data": {
      "image/png": "[encoded data removed]",
      "text/plain": [
       "<Figure size 432x288 with 1 Axes>"
      ]
     },
     "metadata": {},
     "output_type": "display_data"
    }
   ],
   "source": [
    "series.plot(use_index = False)"
   ]
  },
  {
   "cell_type": "code",
   "execution_count": 159,
   "metadata": {},
   "outputs": [
    {
     "data": {
      "text/plain": [
       "<matplotlib.axes._subplots.AxesSubplot at 0x14c0a85c0>"
      ]
     },
     "execution_count": 159,
     "metadata": {},
     "output_type": "execute_result"
    },
    {
     "data": {
      "image/png": "[encoded data removed]",
      "text/plain": [
       "<Figure size 432x288 with 1 Axes>"
      ]
     },
     "metadata": {},
     "output_type": "display_data"
    }
   ],
   "source": [
    "first_n = series.head(100)\n",
    "first_n.plot(use_index = False)"
   ]
  },
  {
   "cell_type": "code",
   "execution_count": 149,
   "metadata": {},
   "outputs": [
    {
     "ename": "AttributeError",
     "evalue": "'list' object has no attribute 'head'",
     "output_type": "error",
     "traceback": [
      "\u001b[0;31m---------------------------------------------------------------------------\u001b[0m",
      "\u001b[0;31mAttributeError\u001b[0m                            Traceback (most recent call last)",
      "\u001b[0;32m<ipython-input-149-f9f064d12c2a>\u001b[0m in \u001b[0;36m<module>\u001b[0;34m()\u001b[0m\n\u001b[0;32m----> 1\u001b[0;31m \u001b[0mseries\u001b[0m\u001b[0;34m.\u001b[0m\u001b[0mhead\u001b[0m\u001b[0;34m(\u001b[0m\u001b[0;34m)\u001b[0m\u001b[0;34m\u001b[0m\u001b[0m\n\u001b[0m",
      "\u001b[0;31mAttributeError\u001b[0m: 'list' object has no attribute 'head'"
     ]
    }
   ],
   "source": [
    "series.head()"
   ]
  },
  {
   "cell_type": "code",
   "execution_count": null,
   "metadata": {},
   "outputs": [],
   "source": []
  }
 ],
 "metadata": {
  "kernelspec": {
   "display_name": "Python 3",
   "language": "python",
   "name": "python3"
  },
  "language_info": {
   "codemirror_mode": {
    "name": "ipython",
    "version": 3
   },
   "file_extension": ".py",
   "mimetype": "text/x-python",
   "name": "python",
   "nbconvert_exporter": "python",
   "pygments_lexer": "ipython3",
   "version": "3.6.5"
  }
 },
 "nbformat": 4,
 "nbformat_minor": 2
}
