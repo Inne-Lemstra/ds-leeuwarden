{
 "cells": [
  {
   "cell_type": "code",
   "execution_count": 2,
   "metadata": {},
   "outputs": [],
   "source": [
    "from pandas import DataFrame, read_csv\n",
    "\n",
    "import matplotlib.pyplot as plt\n",
    "import pandas as pd\n",
    "import sys\n",
    "import matplotlib\n",
    "\n",
    "# Enable inline plotting\n",
    "%matplotlib inline"
   ]
  },
  {
   "cell_type": "code",
   "execution_count": 3,
   "metadata": {},
   "outputs": [
    {
     "name": "stdout",
     "output_type": "stream",
     "text": [
      "Python version 3.6.5 (v3.6.5:f59c0932b4, Mar 28 2018, 03:03:55) \n",
      "[GCC 4.2.1 (Apple Inc. build 5666) (dot 3)]\n",
      "Pandas version 0.23.0\n",
      "Matplotlib version 2.2.2\n"
     ]
    }
   ],
   "source": [
    "print('Python version ' + sys.version)\n",
    "print('Pandas version ' + pd.__version__)\n",
    "print('Matplotlib version ' + matplotlib.__version__)"
   ]
  },
  {
   "cell_type": "code",
   "execution_count": 4,
   "metadata": {},
   "outputs": [],
   "source": [
    "files_dir = '../../../leeuwarden_data/';\n",
    "sensors_file = files_dir + 'locatus/gps_locaties_sensors.csv'\n",
    "locatus_file = files_dir + 'locatus/locatusdata_bewerkt.csv';"
   ]
  },
  {
   "cell_type": "code",
   "execution_count": 18,
   "metadata": {},
   "outputs": [
    {
     "data": {
      "text/html": [
       "<div>\n",
       "<style scoped>\n",
       "    .dataframe tbody tr th:only-of-type {\n",
       "        vertical-align: middle;\n",
       "    }\n",
       "\n",
       "    .dataframe tbody tr th {\n",
       "        vertical-align: top;\n",
       "    }\n",
       "\n",
       "    .dataframe thead th {\n",
       "        text-align: right;\n",
       "    }\n",
       "</style>\n",
       "<table border=\"1\" class=\"dataframe\">\n",
       "  <thead>\n",
       "    <tr style=\"text-align: right;\">\n",
       "      <th></th>\n",
       "      <th>sensor_id</th>\n",
       "      <th>latitude</th>\n",
       "      <th>longitude</th>\n",
       "    </tr>\n",
       "  </thead>\n",
       "  <tbody>\n",
       "    <tr>\n",
       "      <th>0</th>\n",
       "      <td>1074</td>\n",
       "      <td>5.794506</td>\n",
       "      <td>53.200509</td>\n",
       "    </tr>\n",
       "    <tr>\n",
       "      <th>1</th>\n",
       "      <td>1078</td>\n",
       "      <td>5.793081</td>\n",
       "      <td>53.200826</td>\n",
       "    </tr>\n",
       "    <tr>\n",
       "      <th>2</th>\n",
       "      <td>1079</td>\n",
       "      <td>5.797128</td>\n",
       "      <td>53.200347</td>\n",
       "    </tr>\n",
       "    <tr>\n",
       "      <th>3</th>\n",
       "      <td>1625</td>\n",
       "      <td>5.792219</td>\n",
       "      <td>53.199183</td>\n",
       "    </tr>\n",
       "    <tr>\n",
       "      <th>4</th>\n",
       "      <td>1627</td>\n",
       "      <td>5.793139</td>\n",
       "      <td>53.200104</td>\n",
       "    </tr>\n",
       "    <tr>\n",
       "      <th>5</th>\n",
       "      <td>1631</td>\n",
       "      <td>5.791639</td>\n",
       "      <td>53.202216</td>\n",
       "    </tr>\n",
       "    <tr>\n",
       "      <th>6</th>\n",
       "      <td>1636</td>\n",
       "      <td>5.796556</td>\n",
       "      <td>53.201777</td>\n",
       "    </tr>\n",
       "    <tr>\n",
       "      <th>7</th>\n",
       "      <td>2054</td>\n",
       "      <td>5.795879</td>\n",
       "      <td>53.199645</td>\n",
       "    </tr>\n",
       "    <tr>\n",
       "      <th>8</th>\n",
       "      <td>2779</td>\n",
       "      <td>5.799048</td>\n",
       "      <td>53.202032</td>\n",
       "    </tr>\n",
       "  </tbody>\n",
       "</table>\n",
       "</div>"
      ],
      "text/plain": [
       "   sensor_id  latitude  longitude\n",
       "0       1074  5.794506  53.200509\n",
       "1       1078  5.793081  53.200826\n",
       "2       1079  5.797128  53.200347\n",
       "3       1625  5.792219  53.199183\n",
       "4       1627  5.793139  53.200104\n",
       "5       1631  5.791639  53.202216\n",
       "6       1636  5.796556  53.201777\n",
       "7       2054  5.795879  53.199645\n",
       "8       2779  5.799048  53.202032"
      ]
     },
     "execution_count": 18,
     "metadata": {},
     "output_type": "execute_result"
    }
   ],
   "source": [
    "sens = read_csv(sensors_file, delimiter=';', decimal=',')\n",
    "sens"
   ]
  },
  {
   "cell_type": "code",
   "execution_count": 6,
   "metadata": {},
   "outputs": [
    {
     "data": {
      "text/html": [
       "<div>\n",
       "<style scoped>\n",
       "    .dataframe tbody tr th:only-of-type {\n",
       "        vertical-align: middle;\n",
       "    }\n",
       "\n",
       "    .dataframe tbody tr th {\n",
       "        vertical-align: top;\n",
       "    }\n",
       "\n",
       "    .dataframe thead th {\n",
       "        text-align: right;\n",
       "    }\n",
       "</style>\n",
       "<table border=\"1\" class=\"dataframe\">\n",
       "  <thead>\n",
       "    <tr style=\"text-align: right;\">\n",
       "      <th></th>\n",
       "      <th>sensor_id</th>\n",
       "      <th>latitude</th>\n",
       "      <th>longitude</th>\n",
       "    </tr>\n",
       "  </thead>\n",
       "  <tbody>\n",
       "    <tr>\n",
       "      <th>0</th>\n",
       "      <td>1074</td>\n",
       "      <td>5.794506</td>\n",
       "      <td>53.200509</td>\n",
       "    </tr>\n",
       "    <tr>\n",
       "      <th>1</th>\n",
       "      <td>1078</td>\n",
       "      <td>5.793081</td>\n",
       "      <td>53.200826</td>\n",
       "    </tr>\n",
       "    <tr>\n",
       "      <th>2</th>\n",
       "      <td>1079</td>\n",
       "      <td>5.797128</td>\n",
       "      <td>53.200347</td>\n",
       "    </tr>\n",
       "    <tr>\n",
       "      <th>3</th>\n",
       "      <td>1625</td>\n",
       "      <td>5.792219</td>\n",
       "      <td>53.199183</td>\n",
       "    </tr>\n",
       "    <tr>\n",
       "      <th>4</th>\n",
       "      <td>1627</td>\n",
       "      <td>5.793139</td>\n",
       "      <td>53.200104</td>\n",
       "    </tr>\n",
       "    <tr>\n",
       "      <th>5</th>\n",
       "      <td>1631</td>\n",
       "      <td>5.791639</td>\n",
       "      <td>53.202216</td>\n",
       "    </tr>\n",
       "    <tr>\n",
       "      <th>6</th>\n",
       "      <td>1636</td>\n",
       "      <td>5.796556</td>\n",
       "      <td>53.201777</td>\n",
       "    </tr>\n",
       "    <tr>\n",
       "      <th>7</th>\n",
       "      <td>2054</td>\n",
       "      <td>5.795879</td>\n",
       "      <td>53.199645</td>\n",
       "    </tr>\n",
       "    <tr>\n",
       "      <th>8</th>\n",
       "      <td>2779</td>\n",
       "      <td>5.799048</td>\n",
       "      <td>53.202032</td>\n",
       "    </tr>\n",
       "  </tbody>\n",
       "</table>\n",
       "</div>"
      ],
      "text/plain": [
       "   sensor_id  latitude  longitude\n",
       "0       1074  5.794506  53.200509\n",
       "1       1078  5.793081  53.200826\n",
       "2       1079  5.797128  53.200347\n",
       "3       1625  5.792219  53.199183\n",
       "4       1627  5.793139  53.200104\n",
       "5       1631  5.791639  53.202216\n",
       "6       1636  5.796556  53.201777\n",
       "7       2054  5.795879  53.199645\n",
       "8       2779  5.799048  53.202032"
      ]
     },
     "execution_count": 6,
     "metadata": {},
     "output_type": "execute_result"
    }
   ],
   "source": [
    "sensors = pd.DataFrame(sens, columns = ['sensor_id', 'latitude', 'longitude'])\n",
    "sensors"
   ]
  },
  {
   "cell_type": "code",
   "execution_count": 7,
   "metadata": {},
   "outputs": [
    {
     "name": "stdout",
     "output_type": "stream",
     "text": [
      "Data types:\n",
      "VirtualSensorCode     int64\n",
      "DateTimeLocal        object\n",
      "Duration             object\n",
      "code_address          int64\n",
      "dtype: object\n",
      "        VirtualSensorCode        DateTimeLocal Duration  code_address\n",
      "id                                                                   \n",
      "0                    2054  2017-08-04 15:29:58      NaN        119254\n",
      "1                    2054  2017-08-04 13:57:42      NaN         43074\n",
      "2                    2054  2016-09-20 17:47:05      0.0          4840\n",
      "3                    2054  2017-08-17 14:20:43      0.0        991988\n",
      "4                    2054  2017-08-17 17:43:27      0.0        992009\n",
      "5                    2054  2017-08-17 14:50:27      NaN        993071\n",
      "6                    2054  2017-08-17 13:27:00    646.0        994771\n",
      "7                    2054  2017-08-17 13:00:23      0.0       1072898\n",
      "8                    2054  2017-08-17 13:41:31      NaN       1088219\n",
      "9                    2054  2017-08-17 12:27:34      0.0       1089129\n",
      "10                   2054  2017-12-29 14:26:24      0.0       1573105\n",
      "11                   2054  2017-12-29 11:59:53      0.0       1682753\n",
      "12                   2054  2017-12-29 13:42:14      0.0       1688215\n",
      "13                   2054  2017-12-29 13:08:04      0.0         55633\n",
      "14                   2054  2017-12-29 10:28:26    432.0        167443\n",
      "15                   2054  2018-03-10 16:53:12    795.0       1531585\n",
      "16                   2054  2018-03-10 15:58:03      0.0       1648484\n",
      "17                   2054  2018-03-10 13:40:44      NaN         58405\n",
      "18                   2054  2018-03-10 16:22:04      0.0        235599\n",
      "19                   2054  2016-10-05 13:21:12   1931.0        139362\n",
      "20                   2054  2016-11-17 20:25:44      NaN         86300\n",
      "21                   2054  2016-11-17 15:02:13    405.0        135006\n",
      "22                   2054  2016-11-17 22:44:52      0.0        185597\n",
      "23                   2054  2016-08-26 10:41:49      NaN       1729602\n",
      "24                   2054  2016-08-26 16:52:15   2049.0        127786\n",
      "25                   2054  2016-08-26 16:38:38      NaN        141805\n",
      "26                   2054  2016-08-26 16:26:25      0.0        225621\n",
      "27                   2054  2016-08-26 15:38:57      NaN        254224\n",
      "28                   2054  2016-08-26 14:50:46      0.0         10516\n",
      "29                   2054  2017-01-13 16:03:44      NaN         19706\n",
      "...                   ...                  ...      ...           ...\n",
      "999970               1078  2016-11-09 13:04:03      NaN        949063\n",
      "999971               1078  2016-11-09 13:48:21      NaN        964199\n",
      "999972               1078  2016-11-09 10:59:29     93.0        964245\n",
      "999973               1078  2016-11-09 23:28:49      NaN        945924\n",
      "999974               1078  2016-11-09 12:42:48   5238.0       1076688\n",
      "999975               1078  2016-11-09 17:11:07   1642.0       1056320\n",
      "999976               1078  2016-11-09 17:30:16     19.0       1056583\n",
      "999977               1078  2016-11-09 16:27:43      NaN       1134318\n",
      "999978               1078  2016-11-09 09:09:52      0.0       1138309\n",
      "999979               1078  2016-11-09 17:06:32   1365.0       1139469\n",
      "999980               1078  2016-11-09 15:06:10      0.0       1188516\n",
      "999981               1078  2016-11-09 20:33:40      NaN       1197150\n",
      "999982               1078  2016-11-09 08:30:59      0.0       1238469\n",
      "999983               1078  2016-11-09 12:53:20      0.0       1216712\n",
      "999984               1078  2016-11-09 12:15:19      0.0       1248515\n",
      "999985               1078  2016-11-09 13:07:26      5.0       1268392\n",
      "999986               1078  2016-11-09 15:07:26      NaN       1312341\n",
      "999987               1078  2016-11-09 16:34:07      NaN       1345130\n",
      "999988               1078  2016-11-09 11:04:11      0.0       1345468\n",
      "999989               1078  2016-11-09 17:39:29      0.0       1352406\n",
      "999990               1078  2016-11-09 17:22:27      NaN       1396646\n",
      "999991               1078  2016-11-09 16:44:05      NaN       1415161\n",
      "999992               1078  2016-11-09 13:42:34   1949.0       1418690\n",
      "999993               1078  2016-11-09 16:18:33      0.0       1418929\n",
      "999994               1078  2016-11-09 15:30:34      NaN       1444719\n",
      "999995               1078  2016-11-09 21:48:27    145.0       1508774\n",
      "999996               1078  2016-11-09 12:29:24      0.0       1500921\n",
      "999997               1078  2016-11-09 17:33:29   1601.0       1501901\n",
      "999998               1078  2016-11-09 07:51:54     96.0       1530842\n",
      "999999               1078  2016-11-09 21:00:54      NaN       1536029\n",
      "\n",
      "[1000000 rows x 4 columns]\n"
     ]
    }
   ],
   "source": [
    "# Read rows in chunks\n",
    "locatus_chunks = 10 ** 6\n",
    "\n",
    "locatus_reader = pd.read_csv(locatus_file , chunksize = locatus_chunks\n",
    "                             , delimiter = ';', decimal = ',', header = 0, index_col = 0)\n",
    "\n",
    "for chunk in locatus_reader:\n",
    "    print(\"Data types:\")\n",
    "    print(chunk.dtypes)\n",
    "    \n",
    "    print(chunk)\n",
    "    break"
   ]
  },
  {
   "cell_type": "code",
   "execution_count": 8,
   "metadata": {},
   "outputs": [
    {
     "name": "stdout",
     "output_type": "stream",
     "text": [
      "0\n",
      "code_address count\n",
      "94362      1415\n",
      "317315      552\n",
      "1347602     533\n",
      "907136      470\n",
      "1133519     469\n",
      "499589      463\n",
      "1152664     420\n",
      "1707224     398\n",
      "1371582     395\n",
      "80929       379\n",
      "400745      378\n",
      "73042       364\n",
      "165179      348\n",
      "807185      340\n",
      "1366948     303\n",
      "488346      271\n",
      "367296      264\n",
      "500584      260\n",
      "532077      257\n",
      "390515      251\n",
      "286369      236\n",
      "550401      235\n",
      "84268       235\n",
      "1455169     221\n",
      "575122      221\n",
      "859278      219\n",
      "1511306     219\n",
      "193759      212\n",
      "716403      206\n",
      "1230320     203\n",
      "           ... \n",
      "1577003       1\n",
      "975093        1\n",
      "700543        1\n",
      "921835        1\n",
      "944356        1\n",
      "1022170       1\n",
      "626739        1\n",
      "995535        1\n",
      "829628        1\n",
      "823483        1\n",
      "794797        1\n",
      "1513024       1\n",
      "891034        1\n",
      "911508        1\n",
      "569445        1\n",
      "696445        1\n",
      "1634359       1\n",
      "688249        1\n",
      "716919        1\n",
      "710783        1\n",
      "76658         1\n",
      "669806        1\n",
      "916000        1\n",
      "675939        1\n",
      "1726562       1\n",
      "343176        1\n",
      "743490        1\n",
      "561211        1\n",
      "1611834       1\n",
      "1052674       1\n",
      "Name: code_address, Length: 334680, dtype: int64\n",
      "<class 'pandas.core.series.Series'>\n"
     ]
    }
   ],
   "source": [
    "# Try to count occurrences for all devices over all series\n",
    "from collections import Counter\n",
    "\n",
    "series = []\n",
    "\n",
    "idx=0\n",
    "for chunk in locatus_reader:\n",
    "    print(idx)\n",
    "    idx = idx + 1\n",
    "    serie = chunk['code_address'].value_counts()\n",
    "    break\n",
    "    # What comes next?\n",
    "    # https://pandas.pydata.org/pandas-docs/stable/merging.html\n",
    "    # https://stackoverflow.com/questions/24251219/pandas-read-csv-low-memory-and-dtype-options\n",
    "    series = dict(Counter(series)+Counter(serie))\n",
    "\n",
    "# For next slide we hope to have series in order\n",
    "series = serie\n",
    "\n",
    "print('code_address', 'count')\n",
    "print (series)\n",
    "print(type(series))\n",
    "\n",
    "\n",
    "# ?pd.read_csv"
   ]
  },
  {
   "cell_type": "code",
   "execution_count": 9,
   "metadata": {},
   "outputs": [
    {
     "data": {
      "text/plain": [
       "<matplotlib.axes._subplots.AxesSubplot at 0x1137547b8>"
      ]
     },
     "execution_count": 9,
     "metadata": {},
     "output_type": "execute_result"
    },
    {
     "data": {
      "image/png": "[encoded data removed]",
      "text/plain": [
       "<Figure size 432x288 with 1 Axes>"
      ]
     },
     "metadata": {},
     "output_type": "display_data"
    }
   ],
   "source": [
    "series.plot(use_index = False)"
   ]
  },
  {
   "cell_type": "code",
   "execution_count": 10,
   "metadata": {},
   "outputs": [
    {
     "data": {
      "text/plain": [
       "<matplotlib.axes._subplots.AxesSubplot at 0x11d4030f0>"
      ]
     },
     "execution_count": 10,
     "metadata": {},
     "output_type": "execute_result"
    },
    {
     "data": {
      "image/png": "[encoded data removed]",
      "text/plain": [
       "<Figure size 432x288 with 1 Axes>"
      ]
     },
     "metadata": {},
     "output_type": "display_data"
    }
   ],
   "source": [
    "first_n = series.head(100)\n",
    "first_n.plot(use_index = False)"
   ]
  },
  {
   "cell_type": "code",
   "execution_count": 17,
   "metadata": {},
   "outputs": [
    {
     "data": {
      "text/plain": [
       "94362      1415\n",
       "317315      552\n",
       "1347602     533\n",
       "907136      470\n",
       "1133519     469\n",
       "499589      463\n",
       "1152664     420\n",
       "1707224     398\n",
       "1371582     395\n",
       "80929       379\n",
       "Name: code_address, dtype: int64"
      ]
     },
     "execution_count": 17,
     "metadata": {},
     "output_type": "execute_result"
    }
   ],
   "source": [
    "series.head(10)"
   ]
  },
  {
   "cell_type": "code",
   "execution_count": 16,
   "metadata": {},
   "outputs": [
    {
     "name": "stdout",
     "output_type": "stream",
     "text": [
      "VirtualSensorCode\n",
      "1074    672160\n",
      "1078    351104\n",
      "2054    226736\n",
      "Name: id, dtype: int64\n"
     ]
    }
   ],
   "source": [
    "# Hoe knoop je panda's aan elkaar\n",
    "\n",
    "# Code van https://github.com/KennisnetwerkDataScience/Wifi-punten-in-Leeuwarden/blob/master/Groep%202/test_read.py\n",
    "\n",
    "# only read in first 150000 rows\n",
    "df_locatus = pd.read_csv(locatus_file, sep = ';', nrows = 1250000)\n",
    "\n",
    "# position of each wifi sensor\n",
    "sensor_positions = pd.read_csv(sensors_file, sep=';', decimal=',')\n",
    "\n",
    "# join the sensor positions to the wifi data, so the locations are available in the dataframe\n",
    "df_joined = df_locatus.join(sensor_positions.set_index('sensor_id'), on='VirtualSensorCode')\n",
    "\n",
    "# count number of passages for each wifi point (not complete at the moment)\n",
    "print(df_joined.groupby(['VirtualSensorCode']).count().id)\n"
   ]
  }
 ],
 "metadata": {
  "kernelspec": {
   "display_name": "Python 3",
   "language": "python",
   "name": "python3"
  },
  "language_info": {
   "codemirror_mode": {
    "name": "ipython",
    "version": 3
   },
   "file_extension": ".py",
   "mimetype": "text/x-python",
   "name": "python",
   "nbconvert_exporter": "python",
   "pygments_lexer": "ipython3",
   "version": "3.6.5"
  }
 },
 "nbformat": 4,
 "nbformat_minor": 2
}
